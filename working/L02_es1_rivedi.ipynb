{
 "cells": [
  {
   "cell_type": "markdown",
   "id": "ac589971-2814-4897-8fad-0082ab440c45",
   "metadata": {},
   "source": [
    "### Simulate the Monty Hall Problem\n",
    "\n",
    "- Simulate three doors, one car, and two goats.\n",
    " - Simulate three players: the switcher, the conservative, and the newcomer. \n",
    " - Record who wins.\n",
    " - Repeat it many times.\n",
    " - Which player do you want to be?\n",
    " \n",
    " - What would happen if you had 100 doors to choose from and the presenter opens 98 or them?\n",
    " \n",
    "- And what if you had $N$ doors to choose from and the presenter opens $M\\leq N-2$ of them? Study how the probability of winning changes as a function of $M$ and $N$."
   ]
  },
  {
   "cell_type": "code",
   "execution_count": 1,
   "id": "bc7897ad-3bcb-4750-88ad-8bd0ae29a8c7",
   "metadata": {},
   "outputs": [],
   "source": [
    "import numpy as np\n",
    "from matplotlib import pyplot as plt\n",
    "from scipy import stats\n",
    "\n",
    "from sklearn.neighbors import KernelDensity\n",
    "\n",
    "from astropy.visualization import hist\n",
    "from sklearn.mixture import GaussianMixture\n"
   ]
  },
  {
   "cell_type": "markdown",
   "id": "03d5f82e-8648-47fa-a076-8419e8641445",
   "metadata": {},
   "source": [
    "#### Three doors"
   ]
  },
  {
   "cell_type": "code",
   "execution_count": 17,
   "id": "fab5b09f-2b17-42c1-97d5-4c600c5c4901",
   "metadata": {},
   "outputs": [],
   "source": [
    "#goats = 0\n",
    "#car = 1\n",
    "\n",
    "def create_doors(N):\n",
    "    d=np.zeros(N)\n",
    "    d[np.random.randint(0, N)] = 1\n",
    "    \n",
    "    return d"
   ]
  },
  {
   "cell_type": "code",
   "execution_count": 50,
   "id": "3434a117-3171-4275-b2fe-e55654cfc361",
   "metadata": {},
   "outputs": [],
   "source": [
    "def switch_game(doors, choice):\n",
    "\n",
    "    if doors[choice]==0:\n",
    "        return 1\n",
    "    else: return 0\n",
    "\n",
    "def cons_game(doors, choice):\n",
    "    \n",
    "    if doors[choice]==0:\n",
    "        return 0\n",
    "    else: return 1\n",
    "\n",
    "def new_game(doors, choice):\n",
    "    \n",
    "    doors_open = np.random.choice([i for i in range(N) if i != choice and i != np.where(doors == 1)[0][0]])\n",
    "    available_indices = [i for i in range(N) if i != doors_open]\n",
    "    new_choice = np.random.choice(available_indices, 1)\n",
    "   \n",
    "    if doors[new_choice]==0:\n",
    "        return 0\n",
    "    else: return 1"
   ]
  },
  {
   "cell_type": "code",
   "execution_count": 51,
   "id": "7d8a1fb0-40a7-4b7f-9569-aa1e65a9f6fa",
   "metadata": {},
   "outputs": [
    {
     "name": "stdout",
     "output_type": "stream",
     "text": [
      "switcher wins 682 times and loose 318 times\n",
      "conservative wins 318 times and loose 682 times\n",
      "newcomer wins 505 times and loose 495 times\n"
     ]
    }
   ],
   "source": [
    "N = 3\n",
    "games = 1000\n",
    "game_s = np.empty(games)\n",
    "game_c = np.empty(games)\n",
    "game_n = np.empty(games)\n",
    "\n",
    "for i in range(games):\n",
    "    doors = create_doors(N)\n",
    "    choice = np.random.randint(0, N)\n",
    "    #print('doors', doors)\n",
    "    #print('choice', choice)\n",
    "    game_s[i] = switch_game(doors, choice)\n",
    "    game_c[i] = cons_game(doors, choice)\n",
    "    game_n[i] = new_game(doors, choice)\n",
    "\n",
    "s_loose=len(np.where(game_s==0)[0])\n",
    "s_win=games-s_loose\n",
    "print('switcher wins', s_win, 'times and loose', s_loose, 'times')\n",
    "\n",
    "c_loose=len(np.where(game_c==0)[0])\n",
    "c_win=games-c_loose\n",
    "print('conservative wins', c_win, 'times and loose', c_loose, 'times')\n",
    "\n",
    "n_loose=len(np.where(game_n==0)[0])\n",
    "n_win=games-n_loose\n",
    "print('newcomer wins', n_win, 'times and loose', n_loose, 'times')\n"
   ]
  },
  {
   "cell_type": "code",
   "execution_count": 52,
   "id": "93ff88ab-2720-46a2-bacd-7cd1d06d5273",
   "metadata": {},
   "outputs": [
    {
     "data": {
      "image/png": "[encoded data removed]",
      "text/plain": [
       "<Figure size 500x500 with 1 Axes>"
      ]
     },
     "metadata": {},
     "output_type": "display_data"
    }
   ],
   "source": [
    "fig,ax = plt.subplots(figsize=(5, 5))\n",
    "plt.hist(game_s, 2, histtype='step', label='switcher')\n",
    "plt.hist(game_c, 2, histtype='step', label='conservative')\n",
    "plt.hist(game_n, 2, histtype='step', label='newcomer')\n",
    "\n",
    "ax.legend(loc='upper right')\n",
    "fig.show()"
   ]
  },
  {
   "cell_type": "code",
   "execution_count": null,
   "id": "e5417115-36df-45d3-bac2-3d6181330c0a",
   "metadata": {},
   "outputs": [],
   "source": [
    "#RIVEDI DA QUA"
   ]
  },
  {
   "cell_type": "markdown",
   "id": "c0825445-f0de-4b87-bc51-23b379aba6a6",
   "metadata": {},
   "source": [
    "#### 100 doors and the presenter open 98"
   ]
  },
  {
   "cell_type": "code",
   "execution_count": 22,
   "id": "b78aec9c-9e09-4e68-b42b-5ad025ff6486",
   "metadata": {},
   "outputs": [
    {
     "name": "stdout",
     "output_type": "stream",
     "text": [
      "switcher wins 990 times and loose 10 times\n",
      "conservative wins 10 times and loose 990 times\n",
      "newcomer wins 11 times and loose 989 times\n"
     ]
    }
   ],
   "source": [
    "N = 100\n",
    "games = 1000\n",
    "game_s = np.empty(1000)\n",
    "game_c = np.empty(1000)\n",
    "game_n = np.empty(1000)\n",
    "\n",
    "for i in range(games):\n",
    "    doors = create_doors(N)\n",
    "    choice = np.random.randint(0, N)\n",
    "    game_s[i] = switch_game(doors, choice)\n",
    "    game_c[i] = cons_game(doors, choice)\n",
    "    game_n[i] = new_game(doors, N)\n",
    "\n",
    "s_loose=len(np.where(game_s==0)[0])\n",
    "s_win=games-s_loose\n",
    "print('switcher wins', s_win, 'times and loose', s_loose, 'times')\n",
    "\n",
    "c_loose=len(np.where(game_c==0)[0])\n",
    "c_win=games-c_loose\n",
    "print('conservative wins', c_win, 'times and loose', c_loose, 'times')\n",
    "\n",
    "n_loose=len(np.where(game_n==0)[0])\n",
    "n_win=games-n_loose\n",
    "print('newcomer wins', n_win, 'times and loose', n_loose, 'times')"
   ]
  },
  {
   "cell_type": "markdown",
   "id": "310f7582-dfa8-41c5-b316-d646f52e1482",
   "metadata": {},
   "source": [
    "### N doors and the presenter open M<N-2 (4/09)"
   ]
  },
  {
   "cell_type": "code",
   "execution_count": 25,
   "id": "b11f0399-80db-4341-b396-d0482a89cc2b",
   "metadata": {},
   "outputs": [],
   "source": [
    "def new_switch_game(doors, choice, M):\n",
    "\n",
    "    if doors[choice]==1:\n",
    "        return 0\n",
    "    else:\n",
    "        available_indices = [i for i in range(N) if i != np.where(doors == 1)[0][0] and i != choice]\n",
    "        doors_open = np.random.choice(available_indices, M, replace=False)\n",
    "        available_indices = [i for i in available_indices if i not in doors_open]\n",
    "        new_choice = np.random.choice(available_indices, 1)[0]\n",
    "        \n",
    "        if doors[new_choice] == 1:\n",
    "            return 1\n",
    "        else:\n",
    "            return 0"
   ]
  },
  {
   "cell_type": "code",
   "execution_count": 22,
   "id": "a01269f2-eabc-4876-960f-8213d08bb9b5",
   "metadata": {},
   "outputs": [
    {
     "name": "stdout",
     "output_type": "stream",
     "text": [
      "switcher wins 990 times and loose 10 times\n",
      "conservative wins 10 times and loose 990 times\n",
      "newcomer wins 11 times and loose 989 times\n"
     ]
    }
   ],
   "source": [
    "N = 100\n",
    "M = \n",
    "games = 1000\n",
    "game_s = np.empty(1000)\n",
    "game_c = np.empty(1000)\n",
    "game_n = np.empty(1000)\n",
    "\n",
    "for i in range(games):\n",
    "    doors = create_doors(N)\n",
    "    choice = np.random.randint(0, N)\n",
    "    game_s[i] = new_switch_game(doors, choice, M)\n",
    "    game_c[i] = cons_game(doors, choice)\n",
    "    game_n[i] = new_game(doors, N)\n",
    "\n",
    "s_loose=len(np.where(game_s==0)[0])\n",
    "s_win=games-s_loose\n",
    "print('switcher wins', s_win, 'times and loose', s_loose, 'times')\n",
    "\n",
    "c_loose=len(np.where(game_c==0)[0])\n",
    "c_win=games-c_loose\n",
    "print('conservative wins', c_win, 'times and loose', c_loose, 'times')\n",
    "\n",
    "n_loose=len(np.where(game_n==0)[0])\n",
    "n_win=games-n_loose\n",
    "print('newcomer wins', n_win, 'times and loose', n_loose, 'times')"
   ]
  },
  {
   "cell_type": "code",
   "execution_count": null,
   "id": "6cafd710-513c-4429-8bba-9cf97bc6201d",
   "metadata": {},
   "outputs": [],
   "source": []
  },
  {
   "cell_type": "code",
   "execution_count": null,
   "id": "c4981959-78ab-4729-a252-774ea51990eb",
   "metadata": {},
   "outputs": [],
   "source": []
  },
  {
   "cell_type": "markdown",
   "id": "7f46a7ca-4b75-4ee1-ac85-682c99ee9099",
   "metadata": {},
   "source": [
    "#### (rivedi non va) N doors and the presenter open M<N-2"
   ]
  },
  {
   "cell_type": "code",
   "execution_count": 246,
   "id": "f93a13b3-dd80-439b-a8ef-a69575a220ef",
   "metadata": {},
   "outputs": [],
   "source": [
    "def switch_game(doors, N, M): #NON FUNZIONA QUESTA FUNZIONE RIVEDIIII\n",
    "\n",
    "    index=np.zeros(M)    \n",
    "    choice = int(np.random.randint(0, N))\n",
    "    print('porte iniziali', doors)\n",
    "    print('choice', choice)\n",
    "    if doors[choice]==1:\n",
    "        return 0\n",
    "    else:\n",
    "        for i in range(len(doors)):\n",
    "            if doors[i]==0 and i!=choice:\n",
    "                print(i)\n",
    "                index[i]=int(i)\n",
    "                print(index[i])\n",
    "                if index[M-1]!=0:\n",
    "                    else: aux=aux+1\n",
    "                    break\n",
    "            #if i==choice or doors[i]==1: i=i+1\n",
    "\n",
    "        print(index)\n",
    "        ind_to_delete = index + [choice]\n",
    "        print('indici da eliminare', ind_to_delete)\n",
    "        new_doors = np.delete(doors, ind_to_delete)\n",
    "        print('nuova porta', new_doors)\n",
    "        choice = np.random.randint(0, N-M-1)\n",
    "        print('nuova scelta', choice)\n",
    "  \n",
    "        if new_doors[choice]==1:\n",
    "            return 1\n",
    "        else: return 0\n",
    "\n",
    "def cons_game(doors, N):\n",
    "    choice = np.random.randint(0, N)\n",
    "    if doors[choice]==0:\n",
    "        return 0\n",
    "    else: return 1"
   ]
  },
  {
   "cell_type": "code",
   "execution_count": 247,
   "id": "2b1ca21e-a997-4185-b127-619747a1e99b",
   "metadata": {},
   "outputs": [],
   "source": [
    "N=10\n",
    "doors = create_doors(N)\n"
   ]
  },
  {
   "cell_type": "code",
   "execution_count": 248,
   "id": "0f761898-016b-4407-8a93-d2ce0f3ef75a",
   "metadata": {},
   "outputs": [
    {
     "name": "stdout",
     "output_type": "stream",
     "text": [
      "porte iniziali [0. 0. 0. 0. 0. 1. 0. 0. 0. 0.]\n",
      "choice 1\n",
      "0\n",
      "0.0\n",
      "2\n",
      "2.0\n",
      "3\n",
      "3.0\n",
      "4\n",
      "4.0\n",
      "6\n",
      "6.0\n",
      "7\n",
      "7.0\n",
      "8\n",
      "8.0\n",
      "9\n",
      "9.0\n",
      "[0. 0. 2. 3. 4. 0. 6. 7. 8. 9.]\n",
      "indici da eliminare [ 1.  1.  3.  4.  5.  1.  7.  8.  9. 10.]\n"
     ]
    },
    {
     "ename": "IndexError",
     "evalue": "arrays used as indices must be of integer (or boolean) type",
     "output_type": "error",
     "traceback": [
      "\u001b[0;31m---------------------------------------------------------------------------\u001b[0m",
      "\u001b[0;31mIndexError\u001b[0m                                Traceback (most recent call last)",
      "Cell \u001b[0;32mIn[248], line 9\u001b[0m\n\u001b[1;32m      7\u001b[0m \u001b[38;5;28;01mfor\u001b[39;00m i \u001b[38;5;129;01min\u001b[39;00m \u001b[38;5;28mrange\u001b[39m(games):\n\u001b[1;32m      8\u001b[0m     doors \u001b[38;5;241m=\u001b[39m create_doors(N)\n\u001b[0;32m----> 9\u001b[0m     game_s[i] \u001b[38;5;241m=\u001b[39m \u001b[43mswitch_game\u001b[49m\u001b[43m(\u001b[49m\u001b[43mdoors\u001b[49m\u001b[43m,\u001b[49m\u001b[43m \u001b[49m\u001b[43mM\u001b[49m\u001b[43m[\u001b[49m\u001b[38;5;241;43m3\u001b[39;49m\u001b[43m]\u001b[49m\u001b[43m,\u001b[49m\u001b[43m \u001b[49m\u001b[43mN\u001b[49m\u001b[43m)\u001b[49m\n\u001b[1;32m     10\u001b[0m     game_c[i] \u001b[38;5;241m=\u001b[39m cons_game(doors, N)\n\u001b[1;32m     12\u001b[0m s_loose\u001b[38;5;241m=\u001b[39m\u001b[38;5;28mlen\u001b[39m(np\u001b[38;5;241m.\u001b[39mwhere(game_s\u001b[38;5;241m==\u001b[39m\u001b[38;5;241m0\u001b[39m)[\u001b[38;5;241m0\u001b[39m])\n",
      "Cell \u001b[0;32mIn[246], line 22\u001b[0m, in \u001b[0;36mswitch_game\u001b[0;34m(doors, N, M)\u001b[0m\n\u001b[1;32m     20\u001b[0m ind_to_delete \u001b[38;5;241m=\u001b[39m index \u001b[38;5;241m+\u001b[39m [choice]\n\u001b[1;32m     21\u001b[0m \u001b[38;5;28mprint\u001b[39m(\u001b[38;5;124m'\u001b[39m\u001b[38;5;124mindici da eliminare\u001b[39m\u001b[38;5;124m'\u001b[39m, ind_to_delete)\n\u001b[0;32m---> 22\u001b[0m new_doors \u001b[38;5;241m=\u001b[39m \u001b[43mnp\u001b[49m\u001b[38;5;241;43m.\u001b[39;49m\u001b[43mdelete\u001b[49m\u001b[43m(\u001b[49m\u001b[43mdoors\u001b[49m\u001b[43m,\u001b[49m\u001b[43m \u001b[49m\u001b[43mind_to_delete\u001b[49m\u001b[43m)\u001b[49m\n\u001b[1;32m     23\u001b[0m \u001b[38;5;28mprint\u001b[39m(\u001b[38;5;124m'\u001b[39m\u001b[38;5;124mnuova porta\u001b[39m\u001b[38;5;124m'\u001b[39m, new_doors)\n\u001b[1;32m     24\u001b[0m choice \u001b[38;5;241m=\u001b[39m np\u001b[38;5;241m.\u001b[39mrandom\u001b[38;5;241m.\u001b[39mrandint(\u001b[38;5;241m0\u001b[39m, N\u001b[38;5;241m-\u001b[39mM\u001b[38;5;241m-\u001b[39m\u001b[38;5;241m1\u001b[39m)\n",
      "File \u001b[0;32m~/.local/lib/python3.10/site-packages/numpy/lib/function_base.py:5354\u001b[0m, in \u001b[0;36mdelete\u001b[0;34m(arr, obj, axis)\u001b[0m\n\u001b[1;32m   5352\u001b[0m \u001b[38;5;28;01melse\u001b[39;00m:\n\u001b[1;32m   5353\u001b[0m     keep \u001b[38;5;241m=\u001b[39m ones(N, dtype\u001b[38;5;241m=\u001b[39m\u001b[38;5;28mbool\u001b[39m)\n\u001b[0;32m-> 5354\u001b[0m     \u001b[43mkeep\u001b[49m\u001b[43m[\u001b[49m\u001b[43mobj\u001b[49m\u001b[43m,\u001b[49m\u001b[43m]\u001b[49m \u001b[38;5;241m=\u001b[39m \u001b[38;5;28;01mFalse\u001b[39;00m\n\u001b[1;32m   5356\u001b[0m slobj[axis] \u001b[38;5;241m=\u001b[39m keep\n\u001b[1;32m   5357\u001b[0m new \u001b[38;5;241m=\u001b[39m arr[\u001b[38;5;28mtuple\u001b[39m(slobj)]\n",
      "\u001b[0;31mIndexError\u001b[0m: arrays used as indices must be of integer (or boolean) type"
     ]
    }
   ],
   "source": [
    "games = 10\n",
    "game_s = np.empty(games)\n",
    "game_c = np.empty(games)\n",
    "\n",
    "M=np.linspace(0,N-2,N-1)\n",
    "\n",
    "for i in range(games):\n",
    "    doors = create_doors(N)\n",
    "    game_s[i] = switch_game(doors, M[3], N)\n",
    "    game_c[i] = cons_game(doors, N)\n",
    "\n",
    "s_loose=len(np.where(game_s==0)[0])\n",
    "s_win=games-s_loose\n",
    "print('switcher wins', s_win, 'times and loose', s_loose, 'times')\n",
    "\n",
    "c_loose=len(np.where(game_c==0)[0])\n",
    "c_win=games-c_loose\n",
    "print('conservative wins', c_win, 'times and loose', c_loose, 'times')"
   ]
  },
  {
   "cell_type": "markdown",
   "id": "6e711959-a3aa-45bb-92a8-e5a1d3186e18",
   "metadata": {},
   "source": [
    "#### N doors and the presenter open ONE"
   ]
  },
  {
   "cell_type": "code",
   "execution_count": 133,
   "id": "67e3660f-6777-430f-9691-3ffc82b91bf4",
   "metadata": {},
   "outputs": [],
   "source": [
    "def create_doors(N):\n",
    "    d=np.zeros(N)\n",
    "    d[np.random.randint(0, N)] = 1\n",
    "    \n",
    "    return d"
   ]
  },
  {
   "cell_type": "code",
   "execution_count": 155,
   "id": "7c6ac2cd-36db-4b15-936c-27cc283e09da",
   "metadata": {},
   "outputs": [],
   "source": [
    "def switch_game(doors):\n",
    "    \n",
    "    choice = np.random.randint(0, N)\n",
    "    if doors[choice]==1:\n",
    "        return 0\n",
    "    else:\n",
    "        for i in range(len(doors)):\n",
    "            if doors[i]==0 and i!=choice:\n",
    "                break\n",
    "                \n",
    "        ind_to_delete = [choice, i]\n",
    "        new_doors = np.delete(doors, ind_to_delete)\n",
    "        choice = np.random.randint(0, N-2)\n",
    "  \n",
    "        if new_doors[choice]==1:\n",
    "            return 1\n",
    "        else: return 0\n",
    "\n",
    "def cons_game(doors):\n",
    "    choice = np.random.randint(0, N)\n",
    "    if doors[choice]==0:\n",
    "        return 0\n",
    "    else: return 1"
   ]
  },
  {
   "cell_type": "code",
   "execution_count": 156,
   "id": "b83157aa-168b-421b-a01e-072d8de715b8",
   "metadata": {},
   "outputs": [],
   "source": [
    "N=100\n",
    "doors = create_doors(N)\n"
   ]
  },
  {
   "cell_type": "code",
   "execution_count": 159,
   "id": "27609af4-0ccd-4840-a862-7f834f340a19",
   "metadata": {},
   "outputs": [
    {
     "name": "stdout",
     "output_type": "stream",
     "text": [
      "switcher wins 995 times and loose 99005 times\n",
      "conservative wins 989 times and loose 99011 times\n"
     ]
    }
   ],
   "source": [
    "games = 100000\n",
    "game_s = np.empty(games)\n",
    "game_c = np.empty(games)\n",
    "\n",
    "for i in range(games):\n",
    "    doors = create_doors(N)\n",
    "    game_s[i] = switch_game(doors)\n",
    "    game_c[i] = cons_game(doors)\n",
    "\n",
    "s_loose=len(np.where(game_s==0)[0])\n",
    "s_win=games-s_loose\n",
    "print('switcher wins', s_win, 'times and loose', s_loose, 'times')\n",
    "\n",
    "c_loose=len(np.where(game_c==0)[0])\n",
    "c_win=games-c_loose\n",
    "print('conservative wins', c_win, 'times and loose', c_loose, 'times')"
   ]
  },
  {
   "cell_type": "code",
   "execution_count": null,
   "id": "2d9b85e6-b8f8-4c84-814e-9c676c865b90",
   "metadata": {},
   "outputs": [],
   "source": []
  }
 ],
 "metadata": {
  "kernelspec": {
   "display_name": "Python (astrostat_env)",
   "language": "python",
   "name": "astrostat_env"
  },
  "language_info": {
   "codemirror_mode": {
    "name": "ipython",
    "version": 3
   },
   "file_extension": ".py",
   "mimetype": "text/x-python",
   "name": "python",
   "nbconvert_exporter": "python",
   "pygments_lexer": "ipython3",
   "version": "3.10.12"
  }
 },
 "nbformat": 4,
 "nbformat_minor": 5
}
