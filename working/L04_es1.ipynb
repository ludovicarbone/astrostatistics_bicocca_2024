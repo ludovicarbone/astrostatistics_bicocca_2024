{
 "cells": [
  {
   "cell_type": "markdown",
   "id": "36a7ad81-eabe-4f21-af54-542345790087",
   "metadata": {},
   "source": [
    "### Cloning quasars"
   ]
  },
  {
   "cell_type": "markdown",
   "id": "47e4e3e1-95a3-468f-8eb9-0038e9e4857b",
   "metadata": {},
   "source": [
    "- Upsample this distribution in two ways, using both rejection sampling and inverse transform.\n",
    "- Check, at least visually, that the two cloned distribitions are indeed similar to the observed one (for a quantitative check, come back to this point in a few lectures)\n",
    "- Think about the cosmology of quasars. How do you think they are distributed? Overplot the theorethical distribution to the measured SDSS data. Does that agree with your expectation? \n",
    "\n",
    "(Hint: It shouldn't. But why?) "
   ]
  },
  {
   "cell_type": "code",
   "execution_count": 1,
   "id": "e0f0f47e-3121-4611-8312-ac1412ebadc5",
   "metadata": {},
   "outputs": [],
   "source": [
    "import numpy as np\n",
    "from matplotlib import pyplot as plt\n",
    "from scipy import stats\n",
    "import astropy\n",
    "import astroML"
   ]
  },
  {
   "cell_type": "code",
   "execution_count": 2,
   "id": "abc35dfb-2d5c-4b53-ac19-148938f66244",
   "metadata": {},
   "outputs": [
    {
     "name": "stdout",
     "output_type": "stream",
     "text": [
      "downloading DR7 quasar dataset from http://das.sdss.org/va/qsocat/dr7qso.dat.gz to /home/ludovicarbone/astroML_data\n",
      "Downloading http://das.sdss.org/va/qsocat/dr7qso.dat.gz\n",
      "[=========================================]  12.82Mb / 12.82Mb   \n"
     ]
    }
   ],
   "source": [
    "from astroML.datasets import fetch_dr7_quasar\n",
    "\n",
    "# Fetch the quasar data\n",
    "data = fetch_dr7_quasar()\n",
    "\n",
    "# select the first 10000 points\n",
    "data = data[:10000]\n",
    "\n",
    "z = data['redshift']"
   ]
  },
  {
   "cell_type": "code",
   "execution_count": 3,
   "id": "9fe04429-b3d9-431e-ad90-5489b94a3ace",
   "metadata": {},
   "outputs": [
    {
     "data": {
      "image/png": "[encoded data removed]",
      "text/plain": [
       "<Figure size 640x480 with 1 Axes>"
      ]
     },
     "metadata": {},
     "output_type": "display_data"
    }
   ],
   "source": [
    "#istogramma dei redshift z\n",
    "counts, bins = np.histogram(z, bins=100, density=True)\n",
    "plt.hist(z, bins=100, histtype='stepfilled', alpha=0.5, density=True)\n",
    "plt.show()"
   ]
  },
  {
   "cell_type": "markdown",
   "id": "2f92e2cc-cd8e-495c-aede-7e6533e42ed1",
   "metadata": {},
   "source": [
    "#### REJECTION SAMPLE"
   ]
  },
  {
   "cell_type": "code",
   "execution_count": 4,
   "id": "a185d32a-0812-45e1-8bd7-f602d79cdf4d",
   "metadata": {},
   "outputs": [],
   "source": [
    "ymax = np.max(counts)\n",
    "xmax = np.max(bins)\n",
    "xmin = np.min(bins)\n",
    "\n",
    "N=1000\n",
    "\n",
    "x = np.random.uniform(xmin,xmax,N)\n",
    "y = np.random.uniform(0,ymax,N)"
   ]
  },
  {
   "cell_type": "markdown",
   "id": "055a7d18-59c3-4bba-adb4-22f174f7267a",
   "metadata": {},
   "source": [
    "devi capire i che bin c'è la tua y"
   ]
  },
  {
   "cell_type": "code",
   "execution_count": 5,
   "id": "8dfa0c96-2bd6-4d11-a75c-d58061102db6",
   "metadata": {},
   "outputs": [
    {
     "ename": "SyntaxError",
     "evalue": "invalid syntax (3087612519.py, line 1)",
     "output_type": "error",
     "traceback": [
      "\u001b[0;36m  Cell \u001b[0;32mIn[5], line 1\u001b[0;36m\u001b[0m\n\u001b[0;31m    plt.scatter(x[y<],y[y<],c='yellow')\u001b[0m\n\u001b[0m                    ^\u001b[0m\n\u001b[0;31mSyntaxError\u001b[0m\u001b[0;31m:\u001b[0m invalid syntax\n"
     ]
    }
   ],
   "source": [
    "plt.scatter(x[y<],y[y<],c='yellow')\n",
    "plt.scatter(x[y>],y[y>],c='red')\n",
    "\n",
    "plt.show()\n",
    "goodpoints = x[y<f(x)]"
   ]
  },
  {
   "cell_type": "code",
   "execution_count": null,
   "id": "702ee86b-20be-49f6-a431-7c04960cfccc",
   "metadata": {},
   "outputs": [],
   "source": []
  },
  {
   "cell_type": "code",
   "execution_count": null,
   "id": "34c7a07c-273c-4ab6-ac1d-271727f8ec16",
   "metadata": {},
   "outputs": [],
   "source": []
  }
 ],
 "metadata": {
  "kernelspec": {
   "display_name": "Python 3 (ipykernel)",
   "language": "python",
   "name": "python3"
  },
  "language_info": {
   "codemirror_mode": {
    "name": "ipython",
    "version": 3
   },
   "file_extension": ".py",
   "mimetype": "text/x-python",
   "name": "python",
   "nbconvert_exporter": "python",
   "pygments_lexer": "ipython3",
   "version": "3.10.12"
  }
 },
 "nbformat": 4,
 "nbformat_minor": 5
}
