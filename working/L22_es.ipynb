{
 "cells": [
  {
   "cell_type": "markdown",
   "id": "553cfcf5-b876-4d64-94a1-35ade675d0fc",
   "metadata": {},
   "source": [
    "## Time to get your hands dirty. Galaxies vs quasars with neural networks.\n",
    "\n",
    "Let's go back to our galaxy vs quasar data we've used in a previous exercise. \n",
    "\n",
    "1. Read in SDSS galaxy color data from `solutions/galaxyquasar.csv`. Create arrays for the $(u-g)$, $(g-r)$, $(r-i)$, and $(i-z)$ colors. Also create an array with the class labels where galaxy=$0$ and quasar=$1$. \n",
    "\n",
    "2. Now we're going to fit a neural network classifier. First, scale your data appropriately and do a 30% train/test split.\n",
    "\n",
    "3. Now train the classifier. Use one the package among those we've seen. These include Tensorflow via keras, pytorch, and the MPL classifier implemented in scikit-learn. This is an opportunity to pick the one you're most interested in learning. \n",
    "\n",
    "3. Start from a network architecture with a single hidden layer with 5 neurons, using the `adam` solver, the `relu` activation function, and a learninig rate of `0.001`. Plot the resulting ROC curve. \n"
   ]
  },
  {
   "cell_type": "code",
   "execution_count": 35,
   "id": "35e9d8c2-ab67-4ab6-b9b4-80a895b58c51",
   "metadata": {},
   "outputs": [],
   "source": [
    "import numpy as np\n",
    "from scipy import stats\n",
    "from matplotlib import pyplot as plt\n",
    "import random\n",
    "import pandas as pd\n",
    "import corner\n",
    "from sklearn.model_selection import train_test_split\n",
    "import deepdish\n",
    "import os\n",
    "import tensorflow as tf\n",
    "from tensorflow import keras\n",
    "from sklearn.metrics import roc_curve, auc\n",
    "import keras_tuner\n",
    "\n",
    "plt.rc('text', usetex=True)  # Abilita l'uso di LaTeX in tutte le stringhe di testo\n",
    "plt.rc('font', family='serif')\n",
    "\n",
    "%matplotlib inline\n",
    "%config InlineBackend.figure_format='retina'"
   ]
  },
  {
   "cell_type": "code",
   "execution_count": 2,
   "id": "b95bd81e-a128-42ec-96aa-a1ab69cb005b",
   "metadata": {},
   "outputs": [],
   "source": [
    "df = pd.read_csv('../solutions/galaxyquasar.csv')"
   ]
  },
  {
   "cell_type": "code",
   "execution_count": 3,
   "id": "749ef1ba-80c7-47f2-9ce4-780bb522c83f",
   "metadata": {},
   "outputs": [
    {
     "data": {
      "text/html": [
       "<div>\n",
       "<style scoped>\n",
       "    .dataframe tbody tr th:only-of-type {\n",
       "        vertical-align: middle;\n",
       "    }\n",
       "\n",
       "    .dataframe tbody tr th {\n",
       "        vertical-align: top;\n",
       "    }\n",
       "\n",
       "    .dataframe thead th {\n",
       "        text-align: right;\n",
       "    }\n",
       "</style>\n",
       "<table border=\"1\" class=\"dataframe\">\n",
       "  <thead>\n",
       "    <tr style=\"text-align: right;\">\n",
       "      <th></th>\n",
       "      <th>u</th>\n",
       "      <th>g</th>\n",
       "      <th>r</th>\n",
       "      <th>i</th>\n",
       "      <th>z</th>\n",
       "      <th>class</th>\n",
       "      <th>z1</th>\n",
       "      <th>zerr</th>\n",
       "    </tr>\n",
       "  </thead>\n",
       "  <tbody>\n",
       "    <tr>\n",
       "      <th>0</th>\n",
       "      <td>18.97213</td>\n",
       "      <td>18.53676</td>\n",
       "      <td>18.58280</td>\n",
       "      <td>18.34936</td>\n",
       "      <td>18.29215</td>\n",
       "      <td>QSO</td>\n",
       "      <td>0.522819</td>\n",
       "      <td>0.000155</td>\n",
       "    </tr>\n",
       "    <tr>\n",
       "      <th>1</th>\n",
       "      <td>19.24592</td>\n",
       "      <td>17.47646</td>\n",
       "      <td>16.47817</td>\n",
       "      <td>16.04472</td>\n",
       "      <td>15.68851</td>\n",
       "      <td>GALAXY</td>\n",
       "      <td>0.122846</td>\n",
       "      <td>0.000028</td>\n",
       "    </tr>\n",
       "    <tr>\n",
       "      <th>2</th>\n",
       "      <td>19.43536</td>\n",
       "      <td>17.70268</td>\n",
       "      <td>16.91565</td>\n",
       "      <td>16.58327</td>\n",
       "      <td>16.39128</td>\n",
       "      <td>GALAXY</td>\n",
       "      <td>0.000000</td>\n",
       "      <td>0.000000</td>\n",
       "    </tr>\n",
       "    <tr>\n",
       "      <th>3</th>\n",
       "      <td>19.31626</td>\n",
       "      <td>18.18312</td>\n",
       "      <td>17.39591</td>\n",
       "      <td>16.94549</td>\n",
       "      <td>16.65395</td>\n",
       "      <td>GALAXY</td>\n",
       "      <td>0.147435</td>\n",
       "      <td>0.000009</td>\n",
       "    </tr>\n",
       "    <tr>\n",
       "      <th>4</th>\n",
       "      <td>19.28828</td>\n",
       "      <td>19.11188</td>\n",
       "      <td>18.88937</td>\n",
       "      <td>18.80013</td>\n",
       "      <td>18.49183</td>\n",
       "      <td>QSO</td>\n",
       "      <td>2.011455</td>\n",
       "      <td>0.000631</td>\n",
       "    </tr>\n",
       "    <tr>\n",
       "      <th>...</th>\n",
       "      <td>...</td>\n",
       "      <td>...</td>\n",
       "      <td>...</td>\n",
       "      <td>...</td>\n",
       "      <td>...</td>\n",
       "      <td>...</td>\n",
       "      <td>...</td>\n",
       "      <td>...</td>\n",
       "    </tr>\n",
       "    <tr>\n",
       "      <th>49995</th>\n",
       "      <td>19.37295</td>\n",
       "      <td>18.12382</td>\n",
       "      <td>17.39886</td>\n",
       "      <td>16.98503</td>\n",
       "      <td>16.70585</td>\n",
       "      <td>GALAXY</td>\n",
       "      <td>0.113016</td>\n",
       "      <td>0.000011</td>\n",
       "    </tr>\n",
       "    <tr>\n",
       "      <th>49996</th>\n",
       "      <td>18.52021</td>\n",
       "      <td>16.88262</td>\n",
       "      <td>16.03280</td>\n",
       "      <td>15.56884</td>\n",
       "      <td>15.22454</td>\n",
       "      <td>GALAXY</td>\n",
       "      <td>0.085063</td>\n",
       "      <td>0.000014</td>\n",
       "    </tr>\n",
       "    <tr>\n",
       "      <th>49997</th>\n",
       "      <td>18.62718</td>\n",
       "      <td>17.30876</td>\n",
       "      <td>16.87371</td>\n",
       "      <td>16.62399</td>\n",
       "      <td>16.42296</td>\n",
       "      <td>GALAXY</td>\n",
       "      <td>0.054429</td>\n",
       "      <td>0.000008</td>\n",
       "    </tr>\n",
       "    <tr>\n",
       "      <th>49998</th>\n",
       "      <td>19.55140</td>\n",
       "      <td>18.27711</td>\n",
       "      <td>17.62101</td>\n",
       "      <td>17.21947</td>\n",
       "      <td>17.03347</td>\n",
       "      <td>GALAXY</td>\n",
       "      <td>0.112571</td>\n",
       "      <td>0.000009</td>\n",
       "    </tr>\n",
       "    <tr>\n",
       "      <th>49999</th>\n",
       "      <td>18.80772</td>\n",
       "      <td>17.75751</td>\n",
       "      <td>17.40500</td>\n",
       "      <td>17.21650</td>\n",
       "      <td>17.12295</td>\n",
       "      <td>GALAXY</td>\n",
       "      <td>0.043652</td>\n",
       "      <td>0.000007</td>\n",
       "    </tr>\n",
       "  </tbody>\n",
       "</table>\n",
       "<p>50000 rows × 8 columns</p>\n",
       "</div>"
      ],
      "text/plain": [
       "              u         g         r         i         z   class        z1  \\\n",
       "0      18.97213  18.53676  18.58280  18.34936  18.29215     QSO  0.522819   \n",
       "1      19.24592  17.47646  16.47817  16.04472  15.68851  GALAXY  0.122846   \n",
       "2      19.43536  17.70268  16.91565  16.58327  16.39128  GALAXY  0.000000   \n",
       "3      19.31626  18.18312  17.39591  16.94549  16.65395  GALAXY  0.147435   \n",
       "4      19.28828  19.11188  18.88937  18.80013  18.49183     QSO  2.011455   \n",
       "...         ...       ...       ...       ...       ...     ...       ...   \n",
       "49995  19.37295  18.12382  17.39886  16.98503  16.70585  GALAXY  0.113016   \n",
       "49996  18.52021  16.88262  16.03280  15.56884  15.22454  GALAXY  0.085063   \n",
       "49997  18.62718  17.30876  16.87371  16.62399  16.42296  GALAXY  0.054429   \n",
       "49998  19.55140  18.27711  17.62101  17.21947  17.03347  GALAXY  0.112571   \n",
       "49999  18.80772  17.75751  17.40500  17.21650  17.12295  GALAXY  0.043652   \n",
       "\n",
       "           zerr  \n",
       "0      0.000155  \n",
       "1      0.000028  \n",
       "2      0.000000  \n",
       "3      0.000009  \n",
       "4      0.000631  \n",
       "...         ...  \n",
       "49995  0.000011  \n",
       "49996  0.000014  \n",
       "49997  0.000008  \n",
       "49998  0.000009  \n",
       "49999  0.000007  \n",
       "\n",
       "[50000 rows x 8 columns]"
      ]
     },
     "execution_count": 3,
     "metadata": {},
     "output_type": "execute_result"
    }
   ],
   "source": [
    "df"
   ]
  },
  {
   "cell_type": "code",
   "execution_count": 4,
   "id": "1bc8149d-129e-49f5-84dd-8370421bcdd3",
   "metadata": {},
   "outputs": [],
   "source": [
    "ug = np.array(df['u']-df['g'])\n",
    "gr = np.array(df['g']-df['r'])\n",
    "ri = np.array(df['r']-df['i'])\n",
    "iz = np.array(df['i']-df['z'])\n",
    "\n",
    "labels = np.where(df['class'] == 'QSO', 1, 0)"
   ]
  },
  {
   "cell_type": "code",
   "execution_count": 54,
   "id": "9e5babcf-d51f-47ee-8d0b-880c301203f5",
   "metadata": {},
   "outputs": [],
   "source": [
    "ug_scaled = ug/np.max(ug)\n",
    "gr_scaled = ug/np.max(gr)\n",
    "ri_scaled = ug/np.max(ri)\n",
    "iz_scaled = ug/np.max(iz)\n",
    "\n",
    "X = np.column_stack((ug_scaled, gr_scaled, ri_scaled, iz_scaled))\n",
    "X_train, X_test, lab_train, lab_test = train_test_split(X, labels, test_size=0.3, random_state=7)"
   ]
  },
  {
   "cell_type": "code",
   "execution_count": 64,
   "id": "46ff6c7a-58a4-4118-a953-7acea9424b30",
   "metadata": {},
   "outputs": [],
   "source": [
    "def trainnetwork(train_gal, train_lab, test_gal, test_lab, filename='trained.h5'):\n",
    "\n",
    "    if not os.path.isfile(filename):\n",
    "\n",
    "        train_in  = train_gal\n",
    "        train_out = train_lab\n",
    "        test_in  = test_gal\n",
    "        test_out = test_lab\n",
    "\n",
    "        # Kernel initializer\n",
    "        my_init = keras.initializers.glorot_uniform(seed=1)\n",
    "        \n",
    "        # Define neural network architecture\n",
    "        model = keras.Sequential([\n",
    "            # Input layer\n",
    "            tf.keras.layers.InputLayer(input_shape=np.shape(train_in[0])),\n",
    "            \n",
    "            # Hidden layer\n",
    "            keras.layers.Dense(5, activation='relu', kernel_initializer=my_init),\n",
    "            \n",
    "            # Output layer\n",
    "            keras.layers.Dense(1, activation='sigmoid', kernel_initializer=my_init)\n",
    "        ])\n",
    "\n",
    "        model.compile(\n",
    "            optimizer=keras.optimizers.Adam(learning_rate=1e-3),\n",
    "            loss='binary_crossentropy',\n",
    "            metrics=['accuracy']\n",
    "        )\n",
    "\n",
    "        # Actual Training with shorter output\n",
    "        history = model.fit(\n",
    "            train_in,             # Training inputs\n",
    "            train_out,            # Training outputs\n",
    "            validation_data=(test_in, test_out), # Validation data\n",
    "            batch_size=20,        # Batch size\n",
    "            epochs=150,           # Number of epochs\n",
    "            callbacks=[\n",
    "                tf.keras.callbacks.ModelCheckpoint(\n",
    "                    filepath=filename,\n",
    "                    save_weights_only=False,\n",
    "                    monitor='val_accuracy',\n",
    "                    mode='max',\n",
    "                    save_best_only=True),\n",
    "                tf.keras.callbacks.TensorBoard(log_dir=\"logs\" + filename.split('.h5')[0], histogram_freq=1)\n",
    "            ],\n",
    "            shuffle=True,\n",
    "            verbose=0            # Shorter output, displays epoch number and summary per epoch\n",
    "        )\n",
    "\n",
    "    model = loadnetwork(filename)\n",
    "    return model\n",
    "\n",
    "def loadnetwork(filename,verbose=False):\n",
    "    '''\n",
    "    Load a trained neural network ()\n",
    "    '''\n",
    "\n",
    "    model = tf.keras.models.load_model(filename)\n",
    "    if verbose:\n",
    "        model.summary()\n",
    "\n",
    "    return model\n",
    "\n",
    "def testnetwork(model,test_gal,test_lab):\n",
    "   '''\n",
    "   Test network on a series of galaxies\n",
    "   '''\n",
    "   test_in  = test_gal\n",
    "   test_out = test_lab\n",
    "   model.evaluate(test_in,  test_out, verbose=2)\n",
    "\n",
    "\n",
    "def predictnetwork(model, test_gal):\n",
    "    '''\n",
    "    Use a network to predict the detectability of a set of galaxies.\n",
    "    '''\n",
    "    # Return the class (0 or 1) that is preferred\n",
    "    predictions = np.squeeze((model.predict(test_gal) > 0.5).astype(\"int32\"))\n",
    "    return predictions\n",
    "\n",
    "\n",
    "def plot_roc_curve(model, test_gal, test_lab):\n",
    "    '''\n",
    "    Plot the ROC curve for the given model and test data.\n",
    "    Calls predictnetwork to get predicted probabilities.\n",
    "    '''\n",
    "    pred_probabilities = predictnetwork(model, test_gal)\n",
    "    \n",
    "    fpr, tpr, thresholds = roc_curve(test_lab, pred_probabilities)\n",
    "    roc_auc = auc(fpr, tpr)\n",
    "\n",
    "    plt.figure()\n",
    "    plt.plot(fpr, tpr, color='darkorange', lw=2, label=f'ROC curve (area = {roc_auc:.2f})')\n",
    "    plt.plot([0, 1], [0, 1], color='navy', lw=2, linestyle='--')  # Diagonal line for random guessing\n",
    "    plt.xlim([0.0, 0.1])\n",
    "    plt.ylim([0.8, 1.0])\n",
    "    plt.xlabel('False Positive Rate')\n",
    "    plt.ylabel('True Positive Rate')\n",
    "    plt.title('Receiver Operating Characteristic (ROC)')\n",
    "    plt.legend(loc='lower right')\n",
    "    plt.show()"
   ]
  },
  {
   "cell_type": "code",
   "execution_count": 18,
   "id": "0498daef-4a7b-4e3a-bc46-212f3112215c",
   "metadata": {},
   "outputs": [
    {
     "data": {
      "text/plain": [
       "<keras.engine.sequential.Sequential at 0x7f1484613c10>"
      ]
     },
     "execution_count": 18,
     "metadata": {},
     "output_type": "execute_result"
    }
   ],
   "source": [
    "trainnetwork(X_test, lab_test, X_train, lab_train,filename='trained.h5')"
   ]
  },
  {
   "cell_type": "code",
   "execution_count": 19,
   "id": "c50ef9b5-1101-45b5-9055-5b74d43eb4de",
   "metadata": {},
   "outputs": [],
   "source": [
    "model = loadnetwork('trained.h5')"
   ]
  },
  {
   "cell_type": "code",
   "execution_count": 20,
   "id": "605d7432-0867-4120-81d2-c6484782b4e6",
   "metadata": {},
   "outputs": [
    {
     "name": "stdout",
     "output_type": "stream",
     "text": [
      "469/469 - 2s - loss: 0.0719 - accuracy: 0.9807 - 2s/epoch - 3ms/step\n"
     ]
    }
   ],
   "source": [
    "testnetwork(model, X_test, lab_test)"
   ]
  },
  {
   "cell_type": "code",
   "execution_count": 32,
   "id": "ae5dccbe-414a-4442-9a9b-e8937cf621f4",
   "metadata": {},
   "outputs": [
    {
     "name": "stdout",
     "output_type": "stream",
     "text": [
      "469/469 [==============================] - 1s 3ms/step\n"
     ]
    },
    {
     "data": {
      "image/png": "[encoded data removed]",
      "text/plain": [
       "<Figure size 640x480 with 1 Axes>"
      ]
     },
     "metadata": {
      "image/png": {
       "height": 450,
       "width": 570
      }
     },
     "output_type": "display_data"
    }
   ],
   "source": [
    "plot_roc_curve(model, X_test, lab_test)"
   ]
  },
  {
   "cell_type": "markdown",
   "id": "353b13b0-fcae-4edd-a369-7cfe4cbced8b",
   "metadata": {},
   "source": [
    "In this case the performance is worse than the KNeighbors Classifiers used in the ex. of lecture 19, anyway it's very close and I haven't tuned anything yet"
   ]
  },
  {
   "cell_type": "markdown",
   "id": "25dc56b1-766c-41bd-a30f-8b20372ef28b",
   "metadata": {},
   "source": [
    "4. Now let's optimize the hyperparameters of your network. Explore different hyperparameters and see what fits the data best.  Do your best now to optimize the network architecture. Be creative!\n",
    "\n",
    "5. Is your best result comparable with the simpler classifiers we've seen before? Do we need deep learning here? If yes, which features are captured best?\n",
    "\n",
    "\n",
    "A few tips:\n",
    "\n",
    "- In scikit-learn, remember that you can utilize all availables cores on your machine with `n_jobs=-1`. Print out the classification score for the training data, and the best parameters obtained by the cross validation.\n",
    "- If it takes too long, run the hyperparameter optimization on a subset of the training set. Then retrain the full network using the best hyperparameters only.\n",
    "- On cross validation, for scikit learn we've seen how to use `GridSearchCV` already. For Tensorflow, there's a really cool tool called [Tensorboard](https://www.tensorflow.org/tensorboard)"
   ]
  },
  {
   "cell_type": "markdown",
   "id": "28b68ca2-0d9c-41cf-b83c-30719414b4fd",
   "metadata": {},
   "source": [
    "## Optimization of the hyperparameters"
   ]
  },
  {
   "cell_type": "code",
   "execution_count": 40,
   "id": "890becbb-7e7d-4ef7-b71d-99a617a94596",
   "metadata": {},
   "outputs": [],
   "source": [
    "#divide the train in real train and validation\n",
    "X_t, X_val, lab_t, lab_val = train_test_split(X_train, lab_train, test_size=0.4, random_state=7)"
   ]
  },
  {
   "cell_type": "code",
   "execution_count": 56,
   "id": "0e69fae3-18c5-4d46-b0c9-c887dce64e91",
   "metadata": {},
   "outputs": [
    {
     "name": "stdout",
     "output_type": "stream",
     "text": [
      "Trial 220 Complete [00h 00m 59s]\n",
      "val_loss: 0.015737177804112434\n",
      "\n",
      "Best val_loss So Far: 0.015456310473382473\n",
      "Total elapsed time: 20h 07m 26s\n",
      "WARNING:tensorflow:Detecting that an object or model or tf.train.Checkpoint is being deleted with unrestored values. See the following logs for the specific values in question. To silence these warnings, use `status.expect_partial()`. See https://www.tensorflow.org/api_docs/python/tf/train/Checkpoint#restorefor details about the status object returned by the restore function.\n",
      "WARNING:tensorflow:Value in checkpoint could not be found in the restored object: (root).layer_with_weights-0.kernel\n",
      "WARNING:tensorflow:Value in checkpoint could not be found in the restored object: (root).layer_with_weights-0.bias\n",
      "WARNING:tensorflow:Value in checkpoint could not be found in the restored object: (root).layer_with_weights-1.kernel\n",
      "WARNING:tensorflow:Value in checkpoint could not be found in the restored object: (root).layer_with_weights-1.bias\n",
      "WARNING:tensorflow:Value in checkpoint could not be found in the restored object: (root).layer_with_weights-2.kernel\n",
      "WARNING:tensorflow:Value in checkpoint could not be found in the restored object: (root).layer_with_weights-2.bias\n",
      "WARNING:tensorflow:Value in checkpoint could not be found in the restored object: (root).optimizer._variables.1\n",
      "WARNING:tensorflow:Value in checkpoint could not be found in the restored object: (root).optimizer._variables.2\n",
      "WARNING:tensorflow:Value in checkpoint could not be found in the restored object: (root).optimizer._variables.3\n",
      "WARNING:tensorflow:Value in checkpoint could not be found in the restored object: (root).optimizer._variables.4\n",
      "WARNING:tensorflow:Value in checkpoint could not be found in the restored object: (root).optimizer._variables.5\n",
      "WARNING:tensorflow:Value in checkpoint could not be found in the restored object: (root).optimizer._variables.6\n",
      "WARNING:tensorflow:Value in checkpoint could not be found in the restored object: (root).optimizer._variables.7\n",
      "WARNING:tensorflow:Value in checkpoint could not be found in the restored object: (root).optimizer._variables.8\n",
      "WARNING:tensorflow:Value in checkpoint could not be found in the restored object: (root).optimizer._variables.9\n",
      "WARNING:tensorflow:Value in checkpoint could not be found in the restored object: (root).optimizer._variables.10\n",
      "WARNING:tensorflow:Value in checkpoint could not be found in the restored object: (root).optimizer._variables.11\n",
      "WARNING:tensorflow:Value in checkpoint could not be found in the restored object: (root).optimizer._variables.12\n"
     ]
    }
   ],
   "source": [
    "def build_model(hp):\n",
    "    model = keras.Sequential()\n",
    "    \n",
    "    num_layers = hp.Int('num_layers', min_value=1, max_value=3, step=1)  # Optimize number of layers (1 to 3)\n",
    "    \n",
    "    for i in range(num_layers):\n",
    "        # Choose number of neur for layer\n",
    "        units = hp.Choice('units_' + str(i), [5, 6, 7, 10, 15, 20])\n",
    "        # Choose act funct for layer\n",
    "        activation = hp.Choice('activation_' + str(i), ['relu', 'tanh', 'sigmoid'])\n",
    "        \n",
    "        model.add(keras.layers.Dense(units, activation=activation))\n",
    "    \n",
    "    model.add(keras.layers.Dense(1, activation='sigmoid'))\n",
    "    \n",
    "    model.compile(loss='mse', optimizer='adam')  # for now I'll keep adam\n",
    "    return model\n",
    "\n",
    "tuner = keras_tuner.RandomSearch(\n",
    "    build_model,\n",
    "    objective='val_loss',\n",
    "    max_trials=220,\n",
    "    executions_per_trial=2\n",
    ")\n",
    "\n",
    "# Perform the search\n",
    "tuner.search(X_t, lab_t, epochs=10, validation_data=(X_val, lab_val))\n",
    "\n",
    "# Get the best model\n",
    "best_model = tuner.get_best_models(num_models=1)[0]\n"
   ]
  },
  {
   "cell_type": "code",
   "execution_count": 57,
   "id": "d39d4c14-cbab-48ee-8ff4-5958c662fddc",
   "metadata": {},
   "outputs": [
    {
     "name": "stdout",
     "output_type": "stream",
     "text": [
      "Best hyperparameters:\n",
      "num_layers: 3\n",
      "units_0: 7\n",
      "activation_0: relu\n",
      "units_1: 7\n",
      "activation_1: tanh\n",
      "units_2: 15\n",
      "activation_2: relu\n"
     ]
    }
   ],
   "source": [
    "best_hp = tuner.get_best_hyperparameters(num_trials=1)[0]\n",
    "\n",
    "print(\"Best hyperparameters:\")\n",
    "for key, value in best_hp.values.items():\n",
    "    print(f\"{key}: {value}\")"
   ]
  },
  {
   "cell_type": "markdown",
   "id": "c6be0b79-878e-4fcd-b80d-6ef0a006b825",
   "metadata": {},
   "source": [
    "## Fit with all train with the best model and then test"
   ]
  },
  {
   "cell_type": "code",
   "execution_count": 72,
   "id": "e9954fd9-4a24-42ee-9d2c-5e6de0d6b07c",
   "metadata": {},
   "outputs": [],
   "source": [
    "def bestnetwork_train(train_gal, train_lab, test_gal, test_lab, filename='trained.h5'):\n",
    "\n",
    "    if not os.path.isfile(filename):\n",
    "\n",
    "        train_in  = train_gal\n",
    "        train_out = train_lab\n",
    "        test_in  = test_gal\n",
    "        test_out = test_lab\n",
    "\n",
    "        # Kernel initializer\n",
    "        my_init = keras.initializers.glorot_uniform(seed=1)\n",
    "        \n",
    "        # Define neural network architecture\n",
    "        model = keras.Sequential([\n",
    "            # Input layer\n",
    "            tf.keras.layers.InputLayer(input_shape=np.shape(train_in[0])),\n",
    "            \n",
    "            # Hidden layer\n",
    "            keras.layers.Dense(7, activation='relu', kernel_initializer=my_init),\n",
    "\n",
    "            # Hidden layer\n",
    "            keras.layers.Dense(7, activation='tanh', kernel_initializer=my_init),\n",
    "            \n",
    "             # Hidden layer\n",
    "            keras.layers.Dense(15, activation='relu', kernel_initializer=my_init),\n",
    "            \n",
    "            # Output layer\n",
    "            keras.layers.Dense(1, activation='sigmoid', kernel_initializer=my_init)\n",
    "            \n",
    "        ])\n",
    "\n",
    "        model.compile(\n",
    "            optimizer=keras.optimizers.Adam(learning_rate=1e-3),\n",
    "            loss='binary_crossentropy',\n",
    "            metrics=['accuracy']\n",
    "        )\n",
    "\n",
    "        history = model.fit(\n",
    "            train_in,             # Training inputs\n",
    "            train_out,            # Training outputs\n",
    "            validation_data=(test_in, test_out), # Validation data\n",
    "            batch_size=40,        # Batch size\n",
    "            epochs=50,           # Number of epochs\n",
    "            callbacks=[\n",
    "                tf.keras.callbacks.ModelCheckpoint(\n",
    "                    filepath=filename,\n",
    "                    save_weights_only=False,\n",
    "                    monitor='val_accuracy',\n",
    "                    mode='max',\n",
    "                    save_best_only=True),\n",
    "                tf.keras.callbacks.TensorBoard(log_dir=\"logs\" + filename.split('.h5')[0], histogram_freq=1)\n",
    "            ],\n",
    "            shuffle=True,\n",
    "            verbose=0            # Shorter output, displays epoch number and summary per epoch\n",
    "        )\n",
    "\n",
    "    model = loadnetwork(filename)\n",
    "    return model\n"
   ]
  },
  {
   "cell_type": "code",
   "execution_count": 74,
   "id": "896e9c5b-55e6-4118-847f-71bba79e0519",
   "metadata": {},
   "outputs": [
    {
     "data": {
      "text/plain": [
       "<keras.engine.sequential.Sequential at 0x7f14a9b75690>"
      ]
     },
     "execution_count": 74,
     "metadata": {},
     "output_type": "execute_result"
    }
   ],
   "source": [
    "bestnetwork_train(X_test, lab_test, X_train, lab_train,filename='trained_best2.h5')"
   ]
  },
  {
   "cell_type": "code",
   "execution_count": 75,
   "id": "f080f3f2-72bf-410a-8a53-ae76037e9d5e",
   "metadata": {},
   "outputs": [],
   "source": [
    "model = loadnetwork('trained_best2.h5')"
   ]
  },
  {
   "cell_type": "code",
   "execution_count": 76,
   "id": "2188bf1b-93b1-4eb9-85ef-c2fdc318fcad",
   "metadata": {},
   "outputs": [
    {
     "name": "stdout",
     "output_type": "stream",
     "text": [
      "469/469 - 1s - loss: 0.0717 - accuracy: 0.9808 - 1s/epoch - 2ms/step\n"
     ]
    }
   ],
   "source": [
    "testnetwork(model, X_test, lab_test)"
   ]
  },
  {
   "cell_type": "code",
   "execution_count": 77,
   "id": "b5158cbd-5436-474b-8590-11dee8fd826b",
   "metadata": {},
   "outputs": [
    {
     "name": "stdout",
     "output_type": "stream",
     "text": [
      "469/469 [==============================] - 1s 2ms/step\n"
     ]
    },
    {
     "data": {
      "image/png": "[encoded data removed]",
      "text/plain": [
       "<Figure size 640x480 with 1 Axes>"
      ]
     },
     "metadata": {
      "image/png": {
       "height": 450,
       "width": 587
      }
     },
     "output_type": "display_data"
    }
   ],
   "source": [
    "plot_roc_curve(model, X_test, lab_test)"
   ]
  },
  {
   "cell_type": "markdown",
   "id": "f5e0cbb1-cf0b-4d66-8d92-1da5d021b1f1",
   "metadata": {},
   "source": [
    "Even with a selection of the best NN strategy I have the feeling that I got the same result of some of the strategies"
   ]
  }
 ],
 "metadata": {
  "kernelspec": {
   "display_name": "Python (astrostat_env)",
   "language": "python",
   "name": "astrostat_env"
  },
  "language_info": {
   "codemirror_mode": {
    "name": "ipython",
    "version": 3
   },
   "file_extension": ".py",
   "mimetype": "text/x-python",
   "name": "python",
   "nbconvert_exporter": "python",
   "pygments_lexer": "ipython3",
   "version": "3.10.12"
  }
 },
 "nbformat": 4,
 "nbformat_minor": 5
}
